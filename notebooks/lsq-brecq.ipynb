{
 "cells": [
  {
   "cell_type": "code",
   "execution_count": null,
   "metadata": {},
   "outputs": [],
   "source": [
    "import argparse\n",
    "import math\n",
    "import os\n",
    "from IPython.display import clear_output\n",
    "import matplotlib.pyplot as plt\n",
    "import sys\n",
    "sys.path.insert(0, \"../\")\n",
    "from stylegan_models import StyledGenerator\n",
    "from utils.ptq_utils import *\n",
    "from utils.brecq import *\n",
    "import torch"
   ]
  },
  {
   "cell_type": "code",
   "execution_count": null,
   "metadata": {},
   "outputs": [],
   "source": [
    "weights_path = \"../weights\" # path where you placed pretrained weights\n",
    "tmp_data_dir = \"/media/data/lsq-brecq\" # path where intermediate data will be stored\n",
    "generated_data_dir = \"/media/data/mlproject\" # path where prepare_data.py script generated data\n",
    "save_path = \"./lsq-brecq.pth\" # where to save model?"
   ]
  },
  {
   "cell_type": "code",
   "execution_count": null,
   "metadata": {},
   "outputs": [],
   "source": [
    "import pandas as pd\n",
    "df = pd.DataFrame(columns=[\"lr\", \"FID\", \"weighted\", \"lr_lsq\"])\n",
    "\n",
    "res_dir = tmp_data_dir\n",
    "model_path = f\"{weights_path}/fp_model.pth\"\n",
    "if not os.path.exists(res_dir):\n",
    "    os.mkdir(tmp_data_dir)\n",
    "\n",
    "lr_lsq  = 1e-5 # lr for quantization parameters\n",
    "per_channel = True # per channel quantization\n",
    "n_bits = 8 # bits for weights quantization\n",
    "lr = 1e-2 # lr for weights and biases\n",
    "weighted = False # weighted MSE ? (was used in BRECQ article)\n",
    "\n",
    "q_params = {'q_max': 0.9999, 'q_min': 1 - 0.9999,\n",
    "            'bits_w': n_bits, \"per_channel\":per_channel,\n",
    "            'lsq_act': True, 'lsq_weight': True, \"adaround\":False}            \n",
    "\n",
    "\n",
    "model = get_lbl_quant_model_stylegan(model_path, save_path=save_path, lr=lr, lr_lsq=lr_lsq,\n",
    "                                     q_params=q_params,\n",
    "                                     plot=False, weighted=weighted, iters=2000)\n",
    "   \n",
    "qfid = get_fid(model, tmp_data_dir, reference_data=generated_data_dir + \"/fp_data\",\n",
    "               use_cache=True, qfid=True)\n",
    "\n",
    "fid = get_fid(model, tmp_data_dir, reference_data=generated_data_dir + \"/real_images\",\n",
    "               use_cache=True, qfid=False)"
   ]
  }
 ],
 "metadata": {
  "kernelspec": {
   "display_name": "Python 3",
   "language": "python",
   "name": "python3"
  },
  "language_info": {
   "codemirror_mode": {
    "name": "ipython",
    "version": 3
   },
   "file_extension": ".py",
   "mimetype": "text/x-python",
   "name": "python",
   "nbconvert_exporter": "python",
   "pygments_lexer": "ipython3",
   "version": "3.7.5"
  }
 },
 "nbformat": 4,
 "nbformat_minor": 4
}
